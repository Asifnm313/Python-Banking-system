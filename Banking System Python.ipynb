{
 "cells": [
  {
   "cell_type": "code",
   "execution_count": 3,
   "id": "3254b960-1e83-4320-9baa-32baf225a462",
   "metadata": {},
   "outputs": [
    {
     "name": "stdout",
     "output_type": "stream",
     "text": [
      "Welcome to the Banking System!\n"
     ]
    },
    {
     "name": "stdin",
     "output_type": "stream",
     "text": [
      "Enter your account number:  12345\n",
      "Enter your password:  pass123\n"
     ]
    },
    {
     "name": "stdout",
     "output_type": "stream",
     "text": [
      "Login successful!\n",
      "\n",
      "Select an option:\n",
      "1. Deposit\n",
      "2. Withdraw\n",
      "3. Check Balance\n",
      "4. Exit\n"
     ]
    },
    {
     "name": "stdin",
     "output_type": "stream",
     "text": [
      "Enter your choice:  1\n",
      "Enter the amount to deposit:  4000\n"
     ]
    },
    {
     "name": "stdout",
     "output_type": "stream",
     "text": [
      "₹4000.0 deposited successfully! New balance: ₹9000.0\n",
      "\n",
      "Select an option:\n",
      "1. Deposit\n",
      "2. Withdraw\n",
      "3. Check Balance\n",
      "4. Exit\n"
     ]
    },
    {
     "name": "stdin",
     "output_type": "stream",
     "text": [
      "Enter your choice:  3\n"
     ]
    },
    {
     "name": "stdout",
     "output_type": "stream",
     "text": [
      "Your current balance is: ₹9000.0\n",
      "\n",
      "Select an option:\n",
      "1. Deposit\n",
      "2. Withdraw\n",
      "3. Check Balance\n",
      "4. Exit\n"
     ]
    },
    {
     "name": "stdin",
     "output_type": "stream",
     "text": [
      "Enter your choice:  4\n"
     ]
    },
    {
     "name": "stdout",
     "output_type": "stream",
     "text": [
      "Thank you for using our banking system! Goodbye.\n"
     ]
    }
   ],
   "source": [
    "class Account:\n",
    "    def __init__(self, account_number, password, balance=0):\n",
    "        self.account_number = account_number\n",
    "        self.password = password\n",
    "        self.balance = balance\n",
    "\n",
    "    def login(self, account_number, password):\n",
    "        \"\"\"Verify account credentials.\"\"\"\n",
    "        return self.account_number == account_number and self.password == password\n",
    "\n",
    "    def deposit(self, amount):\n",
    "        \"\"\"Deposit money into the account.\"\"\"\n",
    "        if amount > 0:\n",
    "            self.balance += amount\n",
    "            print(f\"₹{amount} deposited successfully! New balance: ₹{self.balance}\")\n",
    "        else:\n",
    "            print(\"Invalid deposit amount.\")\n",
    "\n",
    "    def withdraw(self, amount):\n",
    "        \"\"\"Withdraw money from the account.\"\"\"\n",
    "        if amount <= 0:\n",
    "            print(\"Invalid withdrawal amount.\")\n",
    "        elif amount > self.balance:\n",
    "            print(\"Insufficient funds. Available balance: ₹{self.balance}\")\n",
    "        else:\n",
    "            self.balance -= amount\n",
    "            print(f\"₹{amount} withdrawn successfully! New balance: ₹{self.balance}\")\n",
    "\n",
    "    def check_balance(self):\n",
    "        \"\"\"Display the current balance.\"\"\"\n",
    "        print(f\"Your current balance is: ₹{self.balance}\")\n",
    "\n",
    "\n",
    "# Banking System with additional functionalities\n",
    "def banking_system():\n",
    "    # Pre-defined accounts (for demonstration)\n",
    "    accounts = {\n",
    "        \"12345\": Account(\"12345\", \"pass123\", 5000),\n",
    "        \"67890\": Account(\"67890\", \"password\", 10000)\n",
    "    }\n",
    "\n",
    "    print(\"Welcome to the Banking System!\")\n",
    "    login_attempts = 3\n",
    "    logged_in_account = None\n",
    "\n",
    "    # Login process\n",
    "    while login_attempts > 0:\n",
    "        account_number = input(\"Enter your account number: \")\n",
    "        password = input(\"Enter your password: \")\n",
    "\n",
    "        if account_number in accounts and accounts[account_number].login(account_number, password):\n",
    "            logged_in_account = accounts[account_number]\n",
    "            print(\"Login successful!\")\n",
    "            break\n",
    "        else:\n",
    "            login_attempts -= 1\n",
    "            print(f\"Invalid credentials. {login_attempts} attempt(s) remaining.\")\n",
    "\n",
    "    if not logged_in_account:\n",
    "        print(\"Too many failed attempts. Exiting system.\")\n",
    "        return\n",
    "\n",
    "    # Main menu\n",
    "    while True:\n",
    "        print(\"\\nSelect an option:\")\n",
    "        print(\"1. Deposit\")\n",
    "        print(\"2. Withdraw\")\n",
    "        print(\"3. Check Balance\")\n",
    "        print(\"4. Exit\")\n",
    "\n",
    "        choice = input(\"Enter your choice: \")\n",
    "\n",
    "        if choice == \"1\":\n",
    "            amount = float(input(\"Enter the amount to deposit: \"))\n",
    "            logged_in_account.deposit(amount)\n",
    "        elif choice == \"2\":\n",
    "            amount = float(input(\"Enter the amount to withdraw: \"))\n",
    "            logged_in_account.withdraw(amount)\n",
    "        elif choice == \"3\":\n",
    "            logged_in_account.check_balance()\n",
    "        elif choice == \"4\":\n",
    "            print(\"Thank you for using our banking system! Goodbye.\")\n",
    "            break\n",
    "        else:\n",
    "            print(\"Invalid choice. Please try again.\")\n",
    "\n",
    "\n",
    "# Run the Banking System\n",
    "if __name__ == \"__main__\":\n",
    "    banking_system()"
   ]
  },
  {
   "cell_type": "code",
   "execution_count": null,
   "id": "380815e0-bf2e-45ab-b1b3-310330529ea7",
   "metadata": {},
   "outputs": [],
   "source": []
  }
 ],
 "metadata": {
  "kernelspec": {
   "display_name": "Python 3 (ipykernel)",
   "language": "python",
   "name": "python3"
  },
  "language_info": {
   "codemirror_mode": {
    "name": "ipython",
    "version": 3
   },
   "file_extension": ".py",
   "mimetype": "text/x-python",
   "name": "python",
   "nbconvert_exporter": "python",
   "pygments_lexer": "ipython3",
   "version": "3.12.7"
  }
 },
 "nbformat": 4,
 "nbformat_minor": 5
}
